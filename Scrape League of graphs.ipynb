{
 "cells": [
  {
   "cell_type": "code",
   "execution_count": 1,
   "id": "e619d3eb",
   "metadata": {},
   "outputs": [
    {
     "ename": "RuntimeError",
     "evalue": "module compiled against API version 0xe but this version of numpy is 0xd",
     "output_type": "error",
     "traceback": [
      "\u001B[1;31m---------------------------------------------------------------------------\u001B[0m",
      "\u001B[1;31mRuntimeError\u001B[0m                              Traceback (most recent call last)",
      "\u001B[1;31mRuntimeError\u001B[0m: module compiled against API version 0xe but this version of numpy is 0xd"
     ]
    }
   ],
   "source": [
    "from selenium.webdriver import Firefox\n",
    "from selenium.webdriver.firefox.service import Service\n",
    "from selenium.webdriver.firefox.options import Options\n",
    "from selenium.webdriver.common.by import By\n",
    "from selenium.webdriver.common.action_chains import ActionChains\n",
    "from selenium.webdriver.common.keys import Keys\n",
    "import lxml\n",
    "import html5lib\n",
    "import pandas as pd\n",
    "import time\n",
    "from bs4 import BeautifulSoup\n",
    "from datetime import datetime"
   ]
  },
  {
   "cell_type": "code",
   "execution_count": 2,
   "id": "b2b04ad4",
   "metadata": {},
   "outputs": [],
   "source": [
    "#Setup everything & open the browser\n",
    "\n",
    "profile_path = r'C:\\Users\\<your_user>\\AppData\\Roaming\\Mozilla\\Firefox\\Profiles\\<profile_id>'\n",
    "options=Options()\n",
    "options.set_preference('profile', profile_path)\n",
    "service = Service(r'driver/geckodriver.exe')\n",
    "number_of_page = None\n",
    "max_match_nb = None\n",
    "\n",
    "driver = Firefox(service=service, options=options)\n",
    "\n",
    "driver.get(\"https://www.leagueofgraphs.com/summoner/euw/<Account pseudo>\")"
   ]
  },
  {
   "cell_type": "code",
   "execution_count": 3,
   "id": "2757989c",
   "metadata": {},
   "outputs": [
    {
     "name": "stdout",
     "output_type": "stream",
     "text": [
      "Is the consent box already closed ? 'cause I couldn't find it \n"
     ]
    }
   ],
   "source": [
    "#Click the \"see more\" matches recursively, click on the \"I don't care about cookies\" button if needed and delete the table header\n",
    "number_of_page_left = number_of_page\n",
    "while number_of_page_left > 0 if number_of_page is not None else True:\n",
    "    try:\n",
    "        button = driver.find_element(By.CLASS_NAME, \"see_more_ajax_button\")\n",
    "        button.click()\n",
    "        number_of_page_left -= 1\n",
    "        time.sleep(0.5)\n",
    "    except:\n",
    "        break\n",
    "try:\n",
    "    driver.find_elements(By.CLASS_NAME, \"ncmp__btn-text\")[0].click()\n",
    "except:\n",
    "    print('Is the consent box already closed ? \\'cause I couldn\\'t find it ')\n",
    "driver.execute_script(\"\"\"\n",
    "var element = arguments[0];\n",
    "element.parentNode.removeChild(element);\n",
    "\"\"\", driver.find_element(By.CLASS_NAME,'recentGamesTableHeader'))\n",
    "driver.execute_script(\"\"\"\n",
    "var element = arguments[0];\n",
    "element.parentNode.removeChild(element);\n",
    "\"\"\", driver.find_element(By.CLASS_NAME,'recentGamesTableHeader'))"
   ]
  },
  {
   "cell_type": "code",
   "execution_count": 4,
   "id": "9bead8e7",
   "metadata": {},
   "outputs": [],
   "source": [
    "table = driver.find_element(By.CLASS_NAME, \"recentGamesTable\")\n",
    "soup = BeautifulSoup(table.get_attribute('outerHTML'))"
   ]
  },
  {
   "cell_type": "code",
   "execution_count": 5,
   "id": "13f5ea36",
   "metadata": {},
   "outputs": [],
   "source": [
    "last_cells = table.find_elements(By.CLASS_NAME, \"summonersTdLight\") #Find the champions table for each match\n",
    "seeMatchButtons = [] #Get the see match button containing player id (which bug sometimes) and match id\n",
    "#champsNames = [] #Get champion name to make sure that the id for that match is not broken\n",
    "max_match_nb_tmp = max_match_nb\n",
    "for cell in last_cells:\n",
    "    if max_match_nb_tmp is not None and max_match_nb_tmp == 0:\n",
    "        break\n",
    "    elif max_match_nb_tmp is not None:\n",
    "        max_match_nb_tmp -= 1\n",
    "    try:\n",
    "        seeMatchButtons.append(cell.find_element(By.CLASS_NAME, \"seeMatchButton\"))\n",
    "        #champsNames.append(cell.find_element(By.CLASS_NAME, \"selected\").find_element(By.TAG_NAME, \"img\").get_attribute(\"alt\"))\n",
    "    except:\n",
    "        pass"
   ]
  },
  {
   "cell_type": "code",
   "execution_count": 6,
   "id": "1d704098",
   "metadata": {
    "scrolled": true
   },
   "outputs": [],
   "source": [
    "i = 0\n",
    "matches=list()\n",
    "max_match_nb_tmp = max_match_nb\n",
    "for match in soup.findAll(\"tr\"): #For each match in the list\n",
    "    if match.text.strip() == 'See more' or match.text.strip() == 'Voir plus':\n",
    "        break\n",
    "    if max_match_nb_tmp is not None and max_match_nb_tmp == 0:\n",
    "        break\n",
    "    elif max_match_nb_tmp is not None:\n",
    "        max_match_nb_tmp -= 1\n",
    "    columns = {}\n",
    "    try:\n",
    "        columns[\"button\"] = (seeMatchButtons[i]) #Match button that will be clicked to get the details\n",
    "         #columns.append(champsNames[i]) #Get champion name\n",
    "        columns[\"id\"] = (seeMatchButtons[i].get_attribute('href').split('#participant')[1]) #Get participant number\n",
    "    except:\n",
    "        pass\n",
    "    gameMode = match.findAll(\"div\", {\"class\": \"gameMode\"}) #Get match game mode\n",
    "    victoryDefeat = match.findAll(\"div\", {\"class\": \"victoryDefeatText\"}) #Get match status (victory/defeat)\n",
    "    #Check that the match is not a remake or whatever else, and that it's a soloqueue so that 2 of the same champs can't be used in the same game\n",
    "    if gameMode[0].text.strip() == \"Soloqueue\" and (victoryDefeat[0].text == \"Victory\" or victoryDefeat[0].text == \"Defeat\"):\n",
    "        #columns.append(gameMode[0].text)\n",
    "        for champcell in match.findAll(\"td\", {\"class\": \"championCellLight\"}):\n",
    "            for img in champcell.findAll('img', title=True):\n",
    "                columns[\"champ\"] = (img.get('title')) #Get champion name\n",
    "        for kda in match.findAll(\"div\", {\"class\": \"kda\"}):\n",
    "            for kills in kda.findAll('span', {\"class\": \"kills\"}):\n",
    "                columns[\"kills\"] = kills.text\n",
    "            for deaths in kda.findAll('span', {\"class\": \"deaths\"}):\n",
    "                columns[\"deaths\"] = deaths.text\n",
    "            for assists in kda.findAll('span', {\"class\": \"assists\"}):\n",
    "                columns[\"assists\"] = assists.text\n",
    "        columns[\"status\"] = ('Win' if victoryDefeat[0].text == \"Victory\" else 'Lose')\n",
    "        matches.append(columns)\n",
    "    i+=1"
   ]
  },
  {
   "cell_type": "code",
   "execution_count": 7,
   "id": "945297a7",
   "metadata": {
    "scrolled": true
   },
   "outputs": [],
   "source": [
    "i = 0\n",
    "for match in matches:\n",
    "    driver.switch_to.window(driver.window_handles[0]) #Go to the navigator first tab\n",
    "    match[\"button\"].send_keys(Keys.CONTROL + Keys.RETURN) #Press ctrl+enter to open match in new tab\n",
    "    driver.switch_to.window(driver.window_handles[1]) #Go to the navigator first tab\n",
    "\n",
    "    for attempt in range(10): #Used to auto reload page and retry if something failed in case there is a network error or whatever\n",
    "        try:\n",
    "            #Wait until the page is fully loaded\n",
    "            while True:\n",
    "                time.sleep(0.5)\n",
    "                if driver.execute_script('return document.readyState;') == 'complete':\n",
    "                    break\n",
    "\n",
    "            #Delete the ncmp__tool box if it exists\n",
    "            try:\n",
    "                ncmp = driver.find_element(By.ID, \"ncmp__tool\")\n",
    "                driver.execute_script(\"\"\"\n",
    "                var element = arguments[0];\n",
    "                element.parentNode.removeChild(element);\n",
    "                \"\"\", ncmp)\n",
    "                time.sleep(0.5)\n",
    "            except:\n",
    "                pass\n",
    "\n",
    "            #time.sleep(0.5)\n",
    "            #Get timestamp\n",
    "            timestamp = int(driver.find_element(By.CLASS_NAME, \"bannerSubtitle\").find_element(By.TAG_NAME, \"span\").get_attribute(\"data-timestamp\"))\n",
    "            date = datetime.fromtimestamp(timestamp/1000) #Convert timestamp to date\n",
    "            matches[i][\"date\"] = (str(date.day)+\"/\"+str(date.month)+\"/\"+str(date.year)) #Format match date\n",
    "\n",
    "\n",
    "            driver.find_element(By.CLASS_NAME, \"recapTableTab\").click()\n",
    "\n",
    "            #time.sleep(0.5)\n",
    "\n",
    "            matchDetailsTable = BeautifulSoup(driver.find_element(By.ID, \"match_datatable\").get_attribute('outerHTML')) #Get the match info table\n",
    "\n",
    "            matchTableHeader = driver.find_element(By.CLASS_NAME, \"matchTable\").find_element(By.TAG_NAME, \"tr\")\n",
    "            #header_numbers = matchTableHeader.text.replace(\"Defeat\", \"\").replace(\"Victory\", \"\").replace(\"Ranked Solo/Duo (\", \"\") \\\n",
    "            #                    .replace(\")\", \"\").replace(\"/ \", \"\").replace(\":\", \" \").strip().split(' ')\n",
    "            gameDurationMin = int(matchTableHeader.find_element(By.CLASS_NAME, \"gameDuration\").text.replace(\"(\", \"\").replace(\")\", \"\").split(\":\")[0])\n",
    "\n",
    "            #time.sleep(0.5)\n",
    "\n",
    "            matchDetails=list()\n",
    "            for detailRow in matchDetailsTable.findAll(\"tr\"):\n",
    "                columns = list()\n",
    "                for column in detailRow.findAll(\"th\"):\n",
    "                    columns.append(column)\n",
    "                for column in detailRow.findAll(\"td\"):\n",
    "                    columns.append(column)\n",
    "                matchDetails.append(columns)\n",
    "\n",
    "            #Make sure that the player ID is right manually\n",
    "            j = 0\n",
    "            player_id = 0\n",
    "            for champ in matchDetails[0][0:]:\n",
    "                if match[\"champ\"] in str(champ):\n",
    "                    player_id = j\n",
    "                j+=1\n",
    "\n",
    "\n",
    "            matches[i][\"wards\"] = (int(matchDetails[25][player_id].text.strip())) #Ward\n",
    "            matches[i][\"pinks\"] = (int(matchDetails[27][player_id].text.strip())) #Pink\n",
    "            matches[i][\"vision score\"] = (int(matchDetails[24][player_id].text.strip())) #Vision Score (VS)\n",
    "            matches[i][\"farm\"] = (int(matchDetails[31][player_id].text.strip()) + int(matchDetails[32][player_id].text.strip())) #Minions\n",
    "            matches[i][\"duration\"] = gameDurationMin  #Match duration\n",
    "            matches[i][\"total kills\"] = (int(matchTableHeader.find_element(By.CLASS_NAME, \"kda-left\").text.split(\"/\")[0]) if int(player_id) <= 5 else int(matchTableHeader.find_element(By.CLASS_NAME, \"kda-right\").text.split(\"/\")[0]))\n",
    "            matches[i][\"total deaths\"] = (int(matchTableHeader.find_element(By.CLASS_NAME, \"kda-left\").text.split(\"/\")[1]) if int(player_id) <= 5 else int(matchTableHeader.find_element(By.CLASS_NAME, \"kda-right\").text.split(\"/\")[1]))\n",
    "\n",
    "            driver.close()\n",
    "            driver.switch_to.window(driver.window_handles[0])\n",
    "\n",
    "            i+=1\n",
    "            break\n",
    "        except Exception as e:\n",
    "            print(e)\n",
    "            driver.refresh()\n",
    "            time.sleep(1)\n",
    "            continue\n",
    "        else:\n",
    "            exit()"
   ]
  },
  {
   "cell_type": "code",
   "execution_count": 8,
   "outputs": [
    {
     "data": {
      "text/plain": "[{'button': <selenium.webdriver.remote.webelement.WebElement (session=\"e0cf277f-bf5a-4a10-9b76-ad8d386ab9ae\", element=\"da78ffc8-82d7-4564-a606-701cd511c3bd\")>,\n  'id': '8',\n  'champ': 'Cassiopeia',\n  'kills': '3',\n  'deaths': '4',\n  'assists': '4',\n  'status': 'Win',\n  'date': '23/1/2023',\n  'wards': 6,\n  'pinks': 2,\n  'vision score': 12,\n  'farm': 177,\n  'duration': 21,\n  'total kills': 21,\n  'total deaths': 13}]"
     },
     "execution_count": 8,
     "metadata": {},
     "output_type": "execute_result"
    }
   ],
   "source": [
    "matches"
   ],
   "metadata": {
    "collapsed": false
   }
  },
  {
   "cell_type": "code",
   "execution_count": 9,
   "outputs": [],
   "source": [
    "# total_kills = int(header_numbers[0]) if int(matches[0][1]) <= 5 else int(header_numbers[15])\n",
    "# vision_score = int(matchDetails[24][int(matches[0][1])].text.strip())\n",
    "# wards = int(matchDetails[25][int(matches[0][1])].text.strip())\n",
    "# pinks = int(matchDetails[27][int(matches[0][1])].text.strip())\n",
    "# minions = int(matchDetails[31][int(matches[0][1])].text.strip()) + int(matchDetails[32][int(matches[0][1])].text.strip())\n",
    "# duration = int(header_numbers[8])"
   ],
   "metadata": {
    "collapsed": false
   }
  },
  {
   "cell_type": "code",
   "execution_count": null,
   "id": "ff7ed7b6",
   "metadata": {
    "pycharm": {
     "is_executing": true
    }
   },
   "outputs": [],
   "source": [
    "driver.quit()"
   ]
  },
  {
   "cell_type": "code",
   "execution_count": null,
   "id": "fcabbb9c",
   "metadata": {
    "pycharm": {
     "is_executing": true
    }
   },
   "outputs": [],
   "source": [
    "pd.DataFrame(matches)[::-1].to_csv('stats.csv', index=False, sep=\";\", columns=[\"date\", \"champ\", \"kills\", \"deaths\", \"assists\", \"status\", \"wards\", \"pinks\", \"vision score\", \"farm\", \"duration\", \"total kills\", \"total deaths\"])"
   ]
  },
  {
   "cell_type": "code",
   "execution_count": null,
   "outputs": [],
   "source": [],
   "metadata": {
    "collapsed": false,
    "pycharm": {
     "is_executing": true
    }
   }
  }
 ],
 "metadata": {
  "kernelspec": {
   "display_name": "Python 3 (ipykernel)",
   "language": "python",
   "name": "python3"
  },
  "language_info": {
   "codemirror_mode": {
    "name": "ipython",
    "version": 3
   },
   "file_extension": ".py",
   "mimetype": "text/x-python",
   "name": "python",
   "nbconvert_exporter": "python",
   "pygments_lexer": "ipython3",
   "version": "3.7.9"
  }
 },
 "nbformat": 4,
 "nbformat_minor": 5
}
